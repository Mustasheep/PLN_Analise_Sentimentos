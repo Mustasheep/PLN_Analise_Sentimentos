{
 "cells": [
  {
   "cell_type": "markdown",
   "metadata": {
    "id": "z9NjDS7pXFNq"
   },
   "source": [
    "## Importando bibliotecas"
   ]
  },
  {
   "cell_type": "code",
   "execution_count": 83,
   "metadata": {
    "id": "H63eqzU8R9yz"
   },
   "outputs": [],
   "source": [
    "# Ocultando mensagens do sistema\n",
    "import warnings\n",
    "warnings.filterwarnings('ignore')\n",
    "\n",
    "# Bibliotecas iniciais\n",
    "import pandas as pd\n",
    "import matplotlib.pyplot as plt\n",
    "import seaborn as sns\n",
    "\n",
    "# Carregando bibliotecas para pré-processamento\n",
    "import re\n",
    "import nltk\n",
    "from nltk.tokenize import word_tokenize, sent_tokenize\n",
    "from nltk.stem import WordNetLemmatizer\n",
    "from nltk.corpus import stopwords\n",
    "import unicodedata"
   ]
  },
  {
   "cell_type": "markdown",
   "metadata": {
    "id": "0AKsrQ4mXXc_"
   },
   "source": [
    "## Inspeção Inicial dos dados"
   ]
  },
  {
   "cell_type": "markdown",
   "metadata": {
    "id": "yKIwbsdO4Hln"
   },
   "source": [
    "Os dados deste dataset foram preparados neste mesmo repositório do GitHub, em um notebook nomeado `Dataset.jpynb` , onde foram concatenados cerca de cinco datasets com avaliações de restaurantes em diferentes países."
   ]
  },
  {
   "cell_type": "code",
   "execution_count": 24,
   "metadata": {
    "id": "BrCK2kg3Db50"
   },
   "outputs": [],
   "source": [
    "data = pd.read_csv('restaurantes.csv')\n",
    "df = pd.DataFrame(data)"
   ]
  },
  {
   "cell_type": "code",
   "execution_count": 26,
   "metadata": {
    "colab": {
     "base_uri": "https://localhost:8080/",
     "height": 409
    },
    "id": "pNjZV27_XZpH",
    "outputId": "b04e2702-6ea5-4a6e-9299-6e435eeb4ebf"
   },
   "outputs": [
    {
     "name": "stdout",
     "output_type": "stream",
     "text": [
      "\n",
      "↳ Quantidade de linhas: 2299006\n",
      "↳ Quantidade de colunas: 13\n",
      "\n"
     ]
    },
    {
     "data": {
      "text/html": [
       "<div>\n",
       "<style scoped>\n",
       "    .dataframe tbody tr th:only-of-type {\n",
       "        vertical-align: middle;\n",
       "    }\n",
       "\n",
       "    .dataframe tbody tr th {\n",
       "        vertical-align: top;\n",
       "    }\n",
       "\n",
       "    .dataframe thead th {\n",
       "        text-align: right;\n",
       "    }\n",
       "</style>\n",
       "<table border=\"1\" class=\"dataframe\">\n",
       "  <thead>\n",
       "    <tr style=\"text-align: right;\">\n",
       "      <th></th>\n",
       "      <th>Unnamed: 0</th>\n",
       "      <th>parse_count</th>\n",
       "      <th>restaurant_name</th>\n",
       "      <th>rating_review</th>\n",
       "      <th>sample</th>\n",
       "      <th>review_id</th>\n",
       "      <th>title_review</th>\n",
       "      <th>review_preview</th>\n",
       "      <th>review_full</th>\n",
       "      <th>date</th>\n",
       "      <th>city</th>\n",
       "      <th>url_restaurant</th>\n",
       "      <th>author_id</th>\n",
       "    </tr>\n",
       "  </thead>\n",
       "  <tbody>\n",
       "    <tr>\n",
       "      <th>0</th>\n",
       "      <td>0</td>\n",
       "      <td>1</td>\n",
       "      <td>Chalito_Rambla</td>\n",
       "      <td>1</td>\n",
       "      <td>Negative</td>\n",
       "      <td>review_774086112</td>\n",
       "      <td>Terrible food Terrible service</td>\n",
       "      <td>Ok, this place is terrible! Came here bc we’ve...</td>\n",
       "      <td>Ok, this place is terrible! Came here bc we’ve...</td>\n",
       "      <td>October 12, 2020</td>\n",
       "      <td>Barcelona_Catalonia</td>\n",
       "      <td>https://www.tripadvisor.com/Restaurant_Review-...</td>\n",
       "      <td>UID_0</td>\n",
       "    </tr>\n",
       "    <tr>\n",
       "      <th>1</th>\n",
       "      <td>1</td>\n",
       "      <td>2</td>\n",
       "      <td>Chalito_Rambla</td>\n",
       "      <td>5</td>\n",
       "      <td>Positive</td>\n",
       "      <td>review_739142140</td>\n",
       "      <td>The best milanesa in central Barcelona</td>\n",
       "      <td>This place was a great surprise. The food is d...</td>\n",
       "      <td>This place was a great surprise. The food is d...</td>\n",
       "      <td>January 14, 2020</td>\n",
       "      <td>Barcelona_Catalonia</td>\n",
       "      <td>https://www.tripadvisor.com/Restaurant_Review-...</td>\n",
       "      <td>UID_1</td>\n",
       "    </tr>\n",
       "    <tr>\n",
       "      <th>2</th>\n",
       "      <td>2</td>\n",
       "      <td>3</td>\n",
       "      <td>Chalito_Rambla</td>\n",
       "      <td>5</td>\n",
       "      <td>Positive</td>\n",
       "      <td>review_749758638</td>\n",
       "      <td>Family bonding</td>\n",
       "      <td>The food is excellent.....the ambiance is very...</td>\n",
       "      <td>The food is excellent.....the ambiance is very...</td>\n",
       "      <td>March 7, 2020</td>\n",
       "      <td>Barcelona_Catalonia</td>\n",
       "      <td>https://www.tripadvisor.com/Restaurant_Review-...</td>\n",
       "      <td>UID_2</td>\n",
       "    </tr>\n",
       "  </tbody>\n",
       "</table>\n",
       "</div>"
      ],
      "text/plain": [
       "  Unnamed: 0 parse_count restaurant_name rating_review    sample  \\\n",
       "0          0           1  Chalito_Rambla             1  Negative   \n",
       "1          1           2  Chalito_Rambla             5  Positive   \n",
       "2          2           3  Chalito_Rambla             5  Positive   \n",
       "\n",
       "          review_id                            title_review  \\\n",
       "0  review_774086112          Terrible food Terrible service   \n",
       "1  review_739142140  The best milanesa in central Barcelona   \n",
       "2  review_749758638                          Family bonding   \n",
       "\n",
       "                                      review_preview  \\\n",
       "0  Ok, this place is terrible! Came here bc we’ve...   \n",
       "1  This place was a great surprise. The food is d...   \n",
       "2  The food is excellent.....the ambiance is very...   \n",
       "\n",
       "                                         review_full              date  \\\n",
       "0  Ok, this place is terrible! Came here bc we’ve...  October 12, 2020   \n",
       "1  This place was a great surprise. The food is d...  January 14, 2020   \n",
       "2  The food is excellent.....the ambiance is very...     March 7, 2020   \n",
       "\n",
       "                  city                                     url_restaurant  \\\n",
       "0  Barcelona_Catalonia  https://www.tripadvisor.com/Restaurant_Review-...   \n",
       "1  Barcelona_Catalonia  https://www.tripadvisor.com/Restaurant_Review-...   \n",
       "2  Barcelona_Catalonia  https://www.tripadvisor.com/Restaurant_Review-...   \n",
       "\n",
       "  author_id  \n",
       "0     UID_0  \n",
       "1     UID_1  \n",
       "2     UID_2  "
      ]
     },
     "execution_count": 26,
     "metadata": {},
     "output_type": "execute_result"
    }
   ],
   "source": [
    "print(f\"\\n↳ Quantidade de linhas: {df.shape[0]}\")\n",
    "print(f\"↳ Quantidade de colunas: {df.shape[1]}\\n\")\n",
    "df.head(3)"
   ]
  },
  {
   "cell_type": "code",
   "execution_count": 28,
   "metadata": {
    "colab": {
     "base_uri": "https://localhost:8080/"
    },
    "id": "q9Ee55pTY-LQ",
    "outputId": "c8f3c238-a984-4f43-d8a0-518e057229fe"
   },
   "outputs": [
    {
     "name": "stdout",
     "output_type": "stream",
     "text": [
      "<class 'pandas.core.frame.DataFrame'>\n",
      "RangeIndex: 2299006 entries, 0 to 2299005\n",
      "Data columns (total 13 columns):\n",
      " #   Column           Dtype \n",
      "---  ------           ----- \n",
      " 0   Unnamed: 0       object\n",
      " 1   parse_count      object\n",
      " 2   restaurant_name  object\n",
      " 3   rating_review    object\n",
      " 4   sample           object\n",
      " 5   review_id        object\n",
      " 6   title_review     object\n",
      " 7   review_preview   object\n",
      " 8   review_full      object\n",
      " 9   date             object\n",
      " 10  city             object\n",
      " 11  url_restaurant   object\n",
      " 12  author_id        object\n",
      "dtypes: object(13)\n",
      "memory usage: 228.0+ MB\n"
     ]
    }
   ],
   "source": [
    "df.info()"
   ]
  },
  {
   "cell_type": "markdown",
   "metadata": {
    "id": "50jxtzH7ZoOn"
   },
   "source": [
    "## Limpeza, Manipulação e Preparação"
   ]
  },
  {
   "cell_type": "markdown",
   "metadata": {
    "id": "gKGBQoCh4QO8"
   },
   "source": [
    "Para este projeto, irei precisar apenas de algumas colunas desse dataset, sendo elas:\n",
    "\n",
    "- `rating_review` é utilizada para analisar a pontuação do usuário, de `1` à `5` (do pior para o melhor).\n",
    "- `sample` é a coluna que contém uma avaliação de sentimento do comentário, sendo ela `Negative` ou `Positive` .\n",
    "- `review_full` contém o comentário completo dos usuário em relação ao restaurante, todos eles estão em inglês.\n",
    "\n",
    "**Objetivos Iniciais**\n",
    "- Criar um novo DataFrame com as 3 tabelas citadas acima, renomeando-as para se encaixar melhor ao propósito deste projeto.\n",
    "- Identificar se existe um desbalanceamento na quantidade de avaliações positivas e negativas.\n",
    "- Estudar o impacto das pontuações de `1` à `5` e estudar possibilidade de classificar um novo sentimento como `Neutral` .\n"
   ]
  },
  {
   "cell_type": "code",
   "execution_count": 145,
   "metadata": {
    "colab": {
     "base_uri": "https://localhost:8080/",
     "height": 206
    },
    "id": "P4ATsuibZ4sJ",
    "outputId": "415e341f-0099-4650-ef16-4838618ad321"
   },
   "outputs": [
    {
     "data": {
      "text/html": [
       "<div>\n",
       "<style scoped>\n",
       "    .dataframe tbody tr th:only-of-type {\n",
       "        vertical-align: middle;\n",
       "    }\n",
       "\n",
       "    .dataframe tbody tr th {\n",
       "        vertical-align: top;\n",
       "    }\n",
       "\n",
       "    .dataframe thead th {\n",
       "        text-align: right;\n",
       "    }\n",
       "</style>\n",
       "<table border=\"1\" class=\"dataframe\">\n",
       "  <thead>\n",
       "    <tr style=\"text-align: right;\">\n",
       "      <th></th>\n",
       "      <th>ratings</th>\n",
       "      <th>sentiments</th>\n",
       "      <th>reviews</th>\n",
       "    </tr>\n",
       "  </thead>\n",
       "  <tbody>\n",
       "    <tr>\n",
       "      <th>0</th>\n",
       "      <td>1</td>\n",
       "      <td>Negative</td>\n",
       "      <td>Ok, this place is terrible! Came here bc we’ve...</td>\n",
       "    </tr>\n",
       "    <tr>\n",
       "      <th>1</th>\n",
       "      <td>5</td>\n",
       "      <td>Positive</td>\n",
       "      <td>This place was a great surprise. The food is d...</td>\n",
       "    </tr>\n",
       "    <tr>\n",
       "      <th>2</th>\n",
       "      <td>5</td>\n",
       "      <td>Positive</td>\n",
       "      <td>The food is excellent.....the ambiance is very...</td>\n",
       "    </tr>\n",
       "    <tr>\n",
       "      <th>3</th>\n",
       "      <td>5</td>\n",
       "      <td>Positive</td>\n",
       "      <td>The food is execellent ,affortable price for p...</td>\n",
       "    </tr>\n",
       "    <tr>\n",
       "      <th>4</th>\n",
       "      <td>5</td>\n",
       "      <td>Positive</td>\n",
       "      <td>Mr Suarez,The food at your restaurant was abso...</td>\n",
       "    </tr>\n",
       "  </tbody>\n",
       "</table>\n",
       "</div>"
      ],
      "text/plain": [
       "  ratings sentiments                                            reviews\n",
       "0       1   Negative  Ok, this place is terrible! Came here bc we’ve...\n",
       "1       5   Positive  This place was a great surprise. The food is d...\n",
       "2       5   Positive  The food is excellent.....the ambiance is very...\n",
       "3       5   Positive  The food is execellent ,affortable price for p...\n",
       "4       5   Positive  Mr Suarez,The food at your restaurant was abso..."
      ]
     },
     "execution_count": 145,
     "metadata": {},
     "output_type": "execute_result"
    }
   ],
   "source": [
    "# Preparando novo dataframe com as colunas 'rating_review', 'sample' e 'review_full'\n",
    "df_pln = df[['rating_review', 'sample', 'review_full']]\n",
    "\n",
    "# Renomenado colunas\n",
    "df_pln = df_pln.rename(columns={'rating_review': 'ratings', 'sample': 'sentiments', 'review_full': 'reviews'})\n",
    "\n",
    "df_pln.head()"
   ]
  },
  {
   "cell_type": "code",
   "execution_count": 147,
   "metadata": {
    "colab": {
     "base_uri": "https://localhost:8080/"
    },
    "id": "sFsCac7mrvRC",
    "outputId": "392366d7-a84a-42e6-dffb-6fbc29fc34ee"
   },
   "outputs": [
    {
     "name": "stdout",
     "output_type": "stream",
     "text": [
      "Quantidade de valores ausentes:\n",
      "ratings           9\n",
      "sentiments        9\n",
      "reviews       51199\n",
      "dtype: int64\n"
     ]
    }
   ],
   "source": [
    "# Porcentagem de valores faltantes\n",
    "print(f\"Quantidade de valores ausentes:\\n{df_pln.isna().sum()}\")"
   ]
  },
  {
   "cell_type": "markdown",
   "metadata": {
    "id": "lkiXZs1NQ276"
   },
   "source": [
    "Existem cerca de 51k de comentários ausentes em `reviews` e apenas alguns valores ausentes em `ratings` e `sentiments` . Abaixo irei dar uma leve olhada nesses dados e remover do DataFrame."
   ]
  },
  {
   "cell_type": "code",
   "execution_count": 150,
   "metadata": {
    "colab": {
     "base_uri": "https://localhost:8080/",
     "height": 363
    },
    "id": "mwlVJuhLt0cS",
    "outputId": "88681674-5f1e-4fa2-bdf0-b1228a62d79f"
   },
   "outputs": [
    {
     "data": {
      "text/html": [
       "<div>\n",
       "<style scoped>\n",
       "    .dataframe tbody tr th:only-of-type {\n",
       "        vertical-align: middle;\n",
       "    }\n",
       "\n",
       "    .dataframe tbody tr th {\n",
       "        vertical-align: top;\n",
       "    }\n",
       "\n",
       "    .dataframe thead th {\n",
       "        text-align: right;\n",
       "    }\n",
       "</style>\n",
       "<table border=\"1\" class=\"dataframe\">\n",
       "  <thead>\n",
       "    <tr style=\"text-align: right;\">\n",
       "      <th></th>\n",
       "      <th>ratings</th>\n",
       "      <th>sentiments</th>\n",
       "      <th>reviews</th>\n",
       "    </tr>\n",
       "  </thead>\n",
       "  <tbody>\n",
       "    <tr>\n",
       "      <th>187262</th>\n",
       "      <td>4</td>\n",
       "      <td>Positive</td>\n",
       "      <td>NaN</td>\n",
       "    </tr>\n",
       "    <tr>\n",
       "      <th>187263</th>\n",
       "      <td>Barcelona_Catalonia</td>\n",
       "      <td>https://www.tripadvisor.com/Restaurant_Review-...</td>\n",
       "      <td>NaN</td>\n",
       "    </tr>\n",
       "    <tr>\n",
       "      <th>612489</th>\n",
       "      <td>4.0</td>\n",
       "      <td>Positive</td>\n",
       "      <td>NaN</td>\n",
       "    </tr>\n",
       "    <tr>\n",
       "      <th>612490</th>\n",
       "      <td>London_England</td>\n",
       "      <td>https://www.tripadvisor.com/Restaurant_Review-...</td>\n",
       "      <td>NaN</td>\n",
       "    </tr>\n",
       "    <tr>\n",
       "      <th>828375</th>\n",
       "      <td>5.0</td>\n",
       "      <td>Positive</td>\n",
       "      <td>NaN</td>\n",
       "    </tr>\n",
       "    <tr>\n",
       "      <th>828376</th>\n",
       "      <td>NaN</td>\n",
       "      <td>NaN</td>\n",
       "      <td>NaN</td>\n",
       "    </tr>\n",
       "    <tr>\n",
       "      <th>828377</th>\n",
       "      <td>NaN</td>\n",
       "      <td>NaN</td>\n",
       "      <td>NaN</td>\n",
       "    </tr>\n",
       "    <tr>\n",
       "      <th>828378</th>\n",
       "      <td>NaN</td>\n",
       "      <td>NaN</td>\n",
       "      <td>NaN</td>\n",
       "    </tr>\n",
       "    <tr>\n",
       "      <th>828379</th>\n",
       "      <td>London_England</td>\n",
       "      <td>https://www.tripadvisor.com/Restaurant_Review-...</td>\n",
       "      <td>NaN</td>\n",
       "    </tr>\n",
       "    <tr>\n",
       "      <th>1009105</th>\n",
       "      <td>5.0</td>\n",
       "      <td>Positive</td>\n",
       "      <td>NaN</td>\n",
       "    </tr>\n",
       "  </tbody>\n",
       "</table>\n",
       "</div>"
      ],
      "text/plain": [
       "                     ratings  \\\n",
       "187262                     4   \n",
       "187263   Barcelona_Catalonia   \n",
       "612489                   4.0   \n",
       "612490        London_England   \n",
       "828375                   5.0   \n",
       "828376                   NaN   \n",
       "828377                   NaN   \n",
       "828378                   NaN   \n",
       "828379        London_England   \n",
       "1009105                  5.0   \n",
       "\n",
       "                                                sentiments reviews  \n",
       "187262                                            Positive     NaN  \n",
       "187263   https://www.tripadvisor.com/Restaurant_Review-...     NaN  \n",
       "612489                                            Positive     NaN  \n",
       "612490   https://www.tripadvisor.com/Restaurant_Review-...     NaN  \n",
       "828375                                            Positive     NaN  \n",
       "828376                                                 NaN     NaN  \n",
       "828377                                                 NaN     NaN  \n",
       "828378                                                 NaN     NaN  \n",
       "828379   https://www.tripadvisor.com/Restaurant_Review-...     NaN  \n",
       "1009105                                           Positive     NaN  "
      ]
     },
     "execution_count": 150,
     "metadata": {},
     "output_type": "execute_result"
    }
   ],
   "source": [
    "# Observando os valores ausentes\n",
    "df_pln[df_pln['reviews'].isnull()].head(10)"
   ]
  },
  {
   "cell_type": "code",
   "execution_count": 152,
   "metadata": {
    "colab": {
     "base_uri": "https://localhost:8080/"
    },
    "id": "0ChceBUNt9zL",
    "outputId": "5f2ac3a3-db5e-491d-e13f-3445360213a0"
   },
   "outputs": [
    {
     "name": "stdout",
     "output_type": "stream",
     "text": [
      "Quantidade de valores ausentes:\n",
      "ratings       0\n",
      "sentiments    0\n",
      "reviews       0\n",
      "dtype: int64\n"
     ]
    }
   ],
   "source": [
    "# Dropando valores ausentes\n",
    "df_pln = df_pln.dropna()\n",
    "print(f\"Quantidade de valores ausentes:\\n{df_pln.isna().sum()}\")"
   ]
  },
  {
   "cell_type": "markdown",
   "metadata": {
    "id": "XuboJXbsRy5d"
   },
   "source": [
    "Com os dados limpos, vamos iniciar uma contagem das categorias `ratings` e `sentiments` para termos uma noção da distribuição dos dados."
   ]
  },
  {
   "cell_type": "code",
   "execution_count": 155,
   "metadata": {
    "colab": {
     "base_uri": "https://localhost:8080/",
     "height": 519
    },
    "id": "6pOgPu4ZayFO",
    "outputId": "f5362bd4-434b-4363-958f-1bc4286a42d8"
   },
   "outputs": [
    {
     "data": {
      "text/html": [
       "<div>\n",
       "<style scoped>\n",
       "    .dataframe tbody tr th:only-of-type {\n",
       "        vertical-align: middle;\n",
       "    }\n",
       "\n",
       "    .dataframe tbody tr th {\n",
       "        vertical-align: top;\n",
       "    }\n",
       "\n",
       "    .dataframe thead th {\n",
       "        text-align: right;\n",
       "    }\n",
       "</style>\n",
       "<table border=\"1\" class=\"dataframe\">\n",
       "  <thead>\n",
       "    <tr style=\"text-align: right;\">\n",
       "      <th></th>\n",
       "      <th>ratings</th>\n",
       "      <th>sentiments</th>\n",
       "      <th>Count</th>\n",
       "    </tr>\n",
       "  </thead>\n",
       "  <tbody>\n",
       "    <tr>\n",
       "      <th>4</th>\n",
       "      <td>5</td>\n",
       "      <td>Positive</td>\n",
       "      <td>967675</td>\n",
       "    </tr>\n",
       "    <tr>\n",
       "      <th>3</th>\n",
       "      <td>4</td>\n",
       "      <td>Positive</td>\n",
       "      <td>463400</td>\n",
       "    </tr>\n",
       "    <tr>\n",
       "      <th>2</th>\n",
       "      <td>3</td>\n",
       "      <td>Negative</td>\n",
       "      <td>160845</td>\n",
       "    </tr>\n",
       "    <tr>\n",
       "      <th>14</th>\n",
       "      <td>5.0</td>\n",
       "      <td>Positive</td>\n",
       "      <td>152569</td>\n",
       "    </tr>\n",
       "    <tr>\n",
       "      <th>13</th>\n",
       "      <td>5</td>\n",
       "      <td>Positive</td>\n",
       "      <td>136328</td>\n",
       "    </tr>\n",
       "    <tr>\n",
       "      <th>0</th>\n",
       "      <td>1</td>\n",
       "      <td>Negative</td>\n",
       "      <td>75039</td>\n",
       "    </tr>\n",
       "    <tr>\n",
       "      <th>1</th>\n",
       "      <td>2</td>\n",
       "      <td>Negative</td>\n",
       "      <td>73495</td>\n",
       "    </tr>\n",
       "    <tr>\n",
       "      <th>11</th>\n",
       "      <td>4</td>\n",
       "      <td>Positive</td>\n",
       "      <td>70711</td>\n",
       "    </tr>\n",
       "    <tr>\n",
       "      <th>12</th>\n",
       "      <td>4.0</td>\n",
       "      <td>Positive</td>\n",
       "      <td>67050</td>\n",
       "    </tr>\n",
       "    <tr>\n",
       "      <th>10</th>\n",
       "      <td>3.0</td>\n",
       "      <td>Negative</td>\n",
       "      <td>22905</td>\n",
       "    </tr>\n",
       "    <tr>\n",
       "      <th>9</th>\n",
       "      <td>3</td>\n",
       "      <td>Negative</td>\n",
       "      <td>22224</td>\n",
       "    </tr>\n",
       "    <tr>\n",
       "      <th>8</th>\n",
       "      <td>2.0</td>\n",
       "      <td>Negative</td>\n",
       "      <td>10583</td>\n",
       "    </tr>\n",
       "    <tr>\n",
       "      <th>6</th>\n",
       "      <td>1.0</td>\n",
       "      <td>Negative</td>\n",
       "      <td>9016</td>\n",
       "    </tr>\n",
       "    <tr>\n",
       "      <th>7</th>\n",
       "      <td>2</td>\n",
       "      <td>Negative</td>\n",
       "      <td>8229</td>\n",
       "    </tr>\n",
       "    <tr>\n",
       "      <th>5</th>\n",
       "      <td>1</td>\n",
       "      <td>Negative</td>\n",
       "      <td>7738</td>\n",
       "    </tr>\n",
       "  </tbody>\n",
       "</table>\n",
       "</div>"
      ],
      "text/plain": [
       "   ratings sentiments   Count\n",
       "4        5   Positive  967675\n",
       "3        4   Positive  463400\n",
       "2        3   Negative  160845\n",
       "14     5.0   Positive  152569\n",
       "13       5   Positive  136328\n",
       "0        1   Negative   75039\n",
       "1        2   Negative   73495\n",
       "11       4   Positive   70711\n",
       "12     4.0   Positive   67050\n",
       "10     3.0   Negative   22905\n",
       "9        3   Negative   22224\n",
       "8      2.0   Negative   10583\n",
       "6      1.0   Negative    9016\n",
       "7        2   Negative    8229\n",
       "5        1   Negative    7738"
      ]
     },
     "execution_count": 155,
     "metadata": {},
     "output_type": "execute_result"
    }
   ],
   "source": [
    "# Contagem de valores categóricos\n",
    "df_categ = df_pln.groupby(['ratings', 'sentiments']).size().reset_index(name='Count').sort_values(by='Count', ascending=False)\n",
    "df_categ"
   ]
  },
  {
   "cell_type": "markdown",
   "metadata": {
    "id": "BlicsHy_SGU9"
   },
   "source": [
    "A coluna `ratings` está despadronizada trazendo muitos resultados reduldantes e desorganizados.\n",
    "\n",
    "Para resolver esse problema, irei padronizar os números dessa coluna para `float` e agregar com seus respectivos sentimentos."
   ]
  },
  {
   "cell_type": "code",
   "execution_count": 158,
   "metadata": {
    "colab": {
     "base_uri": "https://localhost:8080/",
     "height": 206
    },
    "id": "lbBhAtnMb7jR",
    "outputId": "1c5b1067-99e4-49c7-99c9-cc04dbd1f3e9"
   },
   "outputs": [
    {
     "data": {
      "text/html": [
       "<div>\n",
       "<style scoped>\n",
       "    .dataframe tbody tr th:only-of-type {\n",
       "        vertical-align: middle;\n",
       "    }\n",
       "\n",
       "    .dataframe tbody tr th {\n",
       "        vertical-align: top;\n",
       "    }\n",
       "\n",
       "    .dataframe thead th {\n",
       "        text-align: right;\n",
       "    }\n",
       "</style>\n",
       "<table border=\"1\" class=\"dataframe\">\n",
       "  <thead>\n",
       "    <tr style=\"text-align: right;\">\n",
       "      <th></th>\n",
       "      <th>ratings</th>\n",
       "      <th>sentiments</th>\n",
       "      <th>Count</th>\n",
       "    </tr>\n",
       "  </thead>\n",
       "  <tbody>\n",
       "    <tr>\n",
       "      <th>4</th>\n",
       "      <td>5.0</td>\n",
       "      <td>Positive</td>\n",
       "      <td>1256572</td>\n",
       "    </tr>\n",
       "    <tr>\n",
       "      <th>3</th>\n",
       "      <td>4.0</td>\n",
       "      <td>Positive</td>\n",
       "      <td>601161</td>\n",
       "    </tr>\n",
       "    <tr>\n",
       "      <th>2</th>\n",
       "      <td>3.0</td>\n",
       "      <td>Negative</td>\n",
       "      <td>205974</td>\n",
       "    </tr>\n",
       "    <tr>\n",
       "      <th>1</th>\n",
       "      <td>2.0</td>\n",
       "      <td>Negative</td>\n",
       "      <td>92307</td>\n",
       "    </tr>\n",
       "    <tr>\n",
       "      <th>0</th>\n",
       "      <td>1.0</td>\n",
       "      <td>Negative</td>\n",
       "      <td>91793</td>\n",
       "    </tr>\n",
       "  </tbody>\n",
       "</table>\n",
       "</div>"
      ],
      "text/plain": [
       "   ratings sentiments    Count\n",
       "4      5.0   Positive  1256572\n",
       "3      4.0   Positive   601161\n",
       "2      3.0   Negative   205974\n",
       "1      2.0   Negative    92307\n",
       "0      1.0   Negative    91793"
      ]
     },
     "execution_count": 158,
     "metadata": {},
     "output_type": "execute_result"
    }
   ],
   "source": [
    "# Transformando a coluna 'rating' em float\n",
    "df_categ['ratings'] = df_categ['ratings'].astype(float)\n",
    "\n",
    "# Agregando a coluna em rating\n",
    "df_rating = df_categ.groupby(['ratings', 'sentiments']).agg({'Count': 'sum'}).reset_index()\n",
    "df_rating.sort_values(by='ratings', ascending=False)"
   ]
  },
  {
   "cell_type": "markdown",
   "metadata": {
    "id": "a7U1sg-vQgXD"
   },
   "source": [
    "## Análise Exploratória"
   ]
  },
  {
   "cell_type": "markdown",
   "metadata": {
    "id": "4q1JwLXNS7kQ"
   },
   "source": [
    "Vamos começar a análise observando a quantidade de comentários positivos e negativos, assim como a possibilidade de aderirmos um novo sentimento nomeado como `Neutral`\n",
    "\n",
    "Abaixo, irei preparar algumas variáveis e organizar duas plotagens para estudar nossos dados."
   ]
  },
  {
   "cell_type": "code",
   "execution_count": 162,
   "metadata": {
    "id": "Uu6npdkBmh9v"
   },
   "outputs": [],
   "source": [
    "# Preparando variáveis para plotagem\n",
    "positive_count = df_rating.loc[df_rating['sentiments'] == 'Positive', 'Count'].values[0]\n",
    "negative_count = df_rating.loc[df_rating['sentiments'] == 'Negative', 'Count'].values[0]\n",
    "\n",
    "# Cores para os plots\n",
    "cores = ['#d62828', '#ff9e00', '#eeef20', '#aacc00', '#55a630']"
   ]
  },
  {
   "cell_type": "code",
   "execution_count": 168,
   "metadata": {
    "colab": {
     "base_uri": "https://localhost:8080/",
     "height": 420
    },
    "id": "JB0a0E1A7na9",
    "outputId": "6e4ec88b-1597-42ef-c3e1-a8531f1769dd"
   },
   "outputs": [
    {
     "data": {
      "image/png": "[encoded data removed]",
      "text/plain": [
       "<Figure size 1000x800 with 2 Axes>"
      ]
     },
     "metadata": {},
     "output_type": "display_data"
    }
   ],
   "source": [
    "fig, axes = plt.subplots(nrows=2, ncols=1, figsize=(10, 8))\n",
    "\n",
    "#------------------\n",
    "# Primeiro subplot: Gráfico de pizza (intensidade)\n",
    "#------------------\n",
    "axes[0].pie([positive_count, negative_count],\n",
    "            labels=['Positive', 'Negative'],\n",
    "            colors= [cores[4], cores[0]],\n",
    "            autopct='%1.1f%%',\n",
    "            startangle=90,\n",
    "            explode=(0.1, 0))\n",
    "\n",
    "axes[0].set_title('Intensidade das Avaliações', fontsize=14, fontweight='bold')\n",
    "axes[0].axis('equal')\n",
    "\n",
    "#------------------\n",
    "# Segundo subplot: Gráfico de barras (contagem)\n",
    "#------------------\n",
    "ax = sns.barplot(x=df_rating['ratings'],\n",
    "                 y=df_rating['Count'],\n",
    "                 palette=cores, ax=axes[1])\n",
    "\n",
    "for i in range(len(df_rating['ratings'])):\n",
    "    axes[1].annotate(f'{df_rating[\"Count\"][i]:.0f}'.replace('.', ','),\n",
    "                (i, df_rating['Count'][i]),\n",
    "                ha=\"center\",\n",
    "                xytext=(0, 3),\n",
    "                textcoords=\"offset points\",\n",
    "                fontweight='bold')\n",
    "\n",
    "# Ocultando eixos e algumas bordas\n",
    "axes[1].yaxis.set_visible(False)\n",
    "axes[1].spines[\"top\"].set_visible(False)\n",
    "axes[1].spines[\"left\"].set_visible(False)\n",
    "axes[1].spines[\"right\"].set_visible(False)\n",
    "\n",
    "axes[1].set_title('')\n",
    "axes[1].set_xlabel('Nota da Avaliação')\n",
    "axes[1].set_ylabel('Contagem')\n",
    "\n",
    "plt.tight_layout()\n",
    "plt.show()"
   ]
  },
  {
   "cell_type": "markdown",
   "metadata": {
    "id": "gn79IDJkT9xu"
   },
   "source": [
    "- É evidente que existe um enorme desbalanceamento de avaliações `Positive` em relação às `Negative`. Isso é um pequeno problema para avaliar nosso modelo e será necessário aplicar algumas técnicas para balancear esses dados.\n",
    "\n",
    "- Em relação às notas das avaliações, existe uma quantidade bem maior para notas contendo pontuação em `4` e `5`. Sabemos que as outras pontuação são do sentimento `Negative` contendo apenas `13,2%` de todo o dataset.\n",
    "\n",
    "Vamos avaliar as pontuações com nota `3` e observar a necessidade de criar ou não um novo sentimento como `Neutral` .\n"
   ]
  },
  {
   "cell_type": "code",
   "execution_count": 107,
   "metadata": {
    "id": "MoLFw1tdgKkf"
   },
   "outputs": [],
   "source": [
    " # Aqui irei dropar a coluna \"Count\" por nao ser mais necessária\n",
    "df_rating = df_rating.drop('Count', axis=1)\n",
    "\n",
    "# Unindo o Dataframe limpo com o que possui as reviews\n",
    "df_pln = pd.merge(df_rating, df_pln[['ratings', 'sentiments', 'reviews']], on=['ratings', 'sentiments'], how='left')\n",
    "df_pln['ratings'] = df_pln['ratings'].astype(int)"
   ]
  },
  {
   "cell_type": "code",
   "execution_count": 108,
   "metadata": {
    "colab": {
     "base_uri": "https://localhost:8080/",
     "height": 143
    },
    "id": "209YH9ReTkhZ",
    "outputId": "99cff3ed-55fd-4717-8f0c-d961fdce854a"
   },
   "outputs": [
    {
     "name": "stdout",
     "output_type": "stream",
     "text": [
      "\n",
      "↳ Quantidade de linhas com os dados limpos: 1740454\n",
      "\n"
     ]
    },
    {
     "data": {
      "text/html": [
       "<div>\n",
       "<style scoped>\n",
       "    .dataframe tbody tr th:only-of-type {\n",
       "        vertical-align: middle;\n",
       "    }\n",
       "\n",
       "    .dataframe tbody tr th {\n",
       "        vertical-align: top;\n",
       "    }\n",
       "\n",
       "    .dataframe thead th {\n",
       "        text-align: right;\n",
       "    }\n",
       "</style>\n",
       "<table border=\"1\" class=\"dataframe\">\n",
       "  <thead>\n",
       "    <tr style=\"text-align: right;\">\n",
       "      <th></th>\n",
       "      <th>ratings</th>\n",
       "      <th>sentiments</th>\n",
       "      <th>reviews</th>\n",
       "    </tr>\n",
       "  </thead>\n",
       "  <tbody>\n",
       "    <tr>\n",
       "      <th>0</th>\n",
       "      <td>1</td>\n",
       "      <td>Negative</td>\n",
       "      <td>Ok, this place is terrible! Came here bc we’ve...</td>\n",
       "    </tr>\n",
       "    <tr>\n",
       "      <th>1</th>\n",
       "      <td>1</td>\n",
       "      <td>Negative</td>\n",
       "      <td>I always enjoyed above the average-to-outstand...</td>\n",
       "    </tr>\n",
       "    <tr>\n",
       "      <th>2</th>\n",
       "      <td>1</td>\n",
       "      <td>Negative</td>\n",
       "      <td>second visit there and i am very disapointed t...</td>\n",
       "    </tr>\n",
       "  </tbody>\n",
       "</table>\n",
       "</div>"
      ],
      "text/plain": [
       "   ratings sentiments                                            reviews\n",
       "0        1   Negative  Ok, this place is terrible! Came here bc we’ve...\n",
       "1        1   Negative  I always enjoyed above the average-to-outstand...\n",
       "2        1   Negative  second visit there and i am very disapointed t..."
      ]
     },
     "execution_count": 108,
     "metadata": {},
     "output_type": "execute_result"
    }
   ],
   "source": [
    "print(f\"\\n↳ Quantidade de linhas com os dados limpos: {df_pln.shape[0]}\\n\")\n",
    "df_pln.head(3)"
   ]
  },
  {
   "cell_type": "code",
   "execution_count": 109,
   "metadata": {
    "colab": {
     "base_uri": "https://localhost:8080/"
    },
    "id": "haNWXas-n34s",
    "outputId": "d23ea832-ef31-4527-a60c-1f9026b1f5c1"
   },
   "outputs": [
    {
     "name": "stdout",
     "output_type": "stream",
     "text": [
      "➥ Analisando os sentimentos de alguns comentários com nota 3:\n",
      "\n",
      "1ª Review: We went there for dinner further a friend’s recommendation. The menu is pretty large, the service was a bit disappointing, when we asked few recommendations to the waiter about the wine for instance, you need to push to have some advises. The food was acceptable, we had a carpaccio of octopus as a starter which was a bit disappointing too (couldn’t feel properly the taste of the octopus). Regarding the pizza they were very yummy.\n",
      "\n",
      "2ª Review: Um, how this joint has this many 5 star reviews will FOREVER vex me. Dramatic presentation, for sure, but the execution was spotty at best for such an extremely focused menu. Will not return.\n",
      "\n",
      "3ª Review: I am so confused by the positive reviews of the food. This is just not good Spanish food. Our drinks were great, but the suckling pig was dry and tough. We ate none of it because it was so bad. We had the spring rolls, which were good and a few other items. The server not very friendly. The place was packed, I assume from the great reviews, but it is really just a tourist trap. I would go for drinks, not the food.\n",
      "\n",
      "4ª Review: The food was really good - but for us, the overall service experience did not quite match the quality of the food. We got seated next to a constantly opening automatic door (from the kitchen behind a glass wall) and it took a really long time to get any kind of attention from any of the staff. This did not improve during the evening so only three stars despite the good quality dishes.\n",
      "\n",
      "5ª Review: This is really a 3 and a 1/2. The portions are really big and the food is good but I didn’t find it exceptional. Service was ok. There was a huge table having a birthday celebration which made the restaurant very lively. None of the dishes were a stand out but it was good value for money.\n",
      "\n",
      "...\n"
     ]
    }
   ],
   "source": [
    "# Estudando alguns comentários com nota 3\n",
    "nota_3 = df_pln[df_pln['ratings'] == 3]\n",
    "print(\"➥ Analisando os sentimentos de alguns comentários com nota 3:\\n\")\n",
    "for i, review in enumerate(nota_3.iloc[0:5, :]['reviews'], start=1):\n",
    "    print(f\"{i}ª Review: {review}\\n\")\n",
    "print(\"...\")"
   ]
  },
  {
   "cell_type": "markdown",
   "metadata": {
    "id": "9nqAn0hWXTgV"
   },
   "source": [
    "- Os comentários com nota 3 tendem a ser negativos, descrevendo experiências que não agregam valor positivo para o cliente. Por isso, não podemos inferir um sentimento claro a partir da ausência de especificidades em alguns comentários.\n",
    "\n",
    "Vamos analisar os comentários com nota 4 para verificar se eles influenciam uma classificação Positiva."
   ]
  },
  {
   "cell_type": "code",
   "execution_count": 114,
   "metadata": {
    "colab": {
     "base_uri": "https://localhost:8080/"
    },
    "id": "AZBl_jGlW953",
    "outputId": "f9a68c7f-138f-4aad-cd11-f6389260b1e0"
   },
   "outputs": [
    {
     "name": "stdout",
     "output_type": "stream",
     "text": [
      "➥ Analisando os sentimentos de alguns comentários com nota 4:\n",
      "\n",
      "1ª Review: I visited this placed yesterday to catch a quick bite before heading for the airport. We were greeted by a young man at the entrance who told use we could choose where we sat. We sat down and spent the next 5min or so being ignored. My partner was getting annoyed even so that the 3 young lads at the next table picked up on this and gave us their menus as they had already orderd. Again we spent some time being ignored before we stopped one of the staff walking by to take our order. The good came out quite quickly and to be fair it was very good. After we had finished we again had to ask the staff to clear the table and give us a dessert menu. The lad that we hsd asked wss just finishing and he told us to ask one of his other colleagues who he pointed to. My partner went over and asked for the menu and was told that there was none and that he had had to go inside the restaurant to the counter and pick out what he wanted which was on display and then tell her.  When I went to the counter to pay the male member behind the counter was on his phone. The female member that was there had to hit him with a washcloth to get his attention that I was there. I was paying by card and he never spoke to me and just gestured with his head to ask me to remove my card. The food here is good but the staff definitely need to be given a course on good customer service. I could understand this attitude if the place was seriously under pressure and extremely busy but the place was fairly quiet.\n",
      "\n",
      "2ª Review: The food here is sooooo good!! So good and tasty. Yaaaam! We had the best sangria here. We tried sangria in many places but here was the best one.  Big portions of food, good prices, very tasty. We ate here more than one time so I definitely recommend this place\n",
      "\n",
      "3ª Review: The place is cool and authentic decor ! Waiters are very nice and gave good tips to help you to choose your meal!  Warning with the queue outside, you may wait for a while but it worth it ! typical spanish tapas and wine\n",
      "\n",
      "4ª Review: Friendly atmospheric and nice and interest foodThe service was very efficient.Very good position of Barcelona\n",
      "\n",
      "5ª Review: We found this whilst wandering the back streets.  Provided options for tapas and paella. We had a couple of tapas first and then a meat paella.  Service was really good and we like the food too.\n",
      "\n",
      "...\n"
     ]
    }
   ],
   "source": [
    "nota_4 = df_pln[df_pln['ratings'] == 4]\n",
    "print(\"➥ Analisando os sentimentos de alguns comentários com nota 4:\\n\")\n",
    "for i, review in enumerate(nota_4.iloc[0:5, :]['reviews'], start=1):\n",
    "    print(f\"{i}ª Review: {review}\\n\")\n",
    "print(\"...\")"
   ]
  },
  {
   "cell_type": "markdown",
   "metadata": {
    "id": "ooa1BaP5YhCf"
   },
   "source": [
    "Com base nos comentários com nota 4, podemos observar uma tendência geral para o positivo, apesar da primeira avaliação apresentar uma experiência mista. A maioria dos clientes elogia a comida, o ambiente e o serviço (com a exceção do primeiro relato). Portanto, esses comentários parecem influenciar uma classificação geral mais positiva em relação ao estabelecimento."
   ]
  },
  {
   "cell_type": "markdown",
   "metadata": {
    "id": "_zlT4J0xYsui"
   },
   "source": [
    "## Pré-Processamento"
   ]
  },
  {
   "cell_type": "markdown",
   "metadata": {},
   "source": [
    "Antes de começarmos a planejar uma função, irei fazer uma checagem das principais dependências que serão utilizadas para essa etapa do projeto"
   ]
  },
  {
   "cell_type": "code",
   "execution_count": 118,
   "metadata": {},
   "outputs": [],
   "source": [
    "# Certifique-se de ter os recursos do NLTK baixados\n",
    "try:\n",
    "    stopwords.words('english')\n",
    "    WordNetLemmatizer()\n",
    "except LookupError:\n",
    "    nltk.download('stopwords')\n",
    "    nltk.download('wordnet')\n",
    "    nltk.download('punkt')  # necessário para word_tokenize\n",
    "    nltk.download('omw-1.4') #necessario para o wordnet"
   ]
  },
  {
   "cell_type": "markdown",
   "metadata": {},
   "source": [
    "A função a seguir será nossa base principal para fazer o pré-processamento de todos os `reviews` presentes no DataFrame, isso inclui:\n",
    "- Normalização Unicode\n",
    "- Remoção de caracteres especiais (mantendo as letras em caso de acentos)\n",
    "- Remoção de números\n",
    "- Remoção de espaços extras\n",
    "- Tokenização das palavras\n",
    "- Lematização das palavras\n",
    "\n",
    "\n",
    "**Tokenização:** Basicamente, isso irá criar um vetor para cada palavra dos comentários, facilitando para uma etapa posterior de vetorização (transformar palavras em números) e permitindo que apliquemos um modelo para ensinar nossa máquina de avaliação de sentimentos.\n",
    "\n",
    "**Lematização:** Isso transforma todas as variações de uma determinada palavra para sua base de origem, como `running > run`, `is > be` ou o plural `mice` para o singular `mouse` . "
   ]
  },
  {
   "cell_type": "code",
   "execution_count": 120,
   "metadata": {},
   "outputs": [],
   "source": [
    "def text_preprocessing(text):\n",
    "    \"\"\"\n",
    "    Preprocessa um texto removendo HTML, caracteres especiais, URLs,\n",
    "    convertendo para minúsculas, removendo números, stop words e lematizando.\n",
    "\n",
    "    Args:\n",
    "        text (str): O texto a ser pre-processado.\n",
    "\n",
    "    Returns:\n",
    "        str: O texto pre-processado.  Retorna uma string vazia em caso de erro.\n",
    "    \"\"\"\n",
    "    try:\n",
    "        # Normalização Unicode (NFD = Decomposição Canônica)\n",
    "        text = unicodedata.normalize('NFD', text)\n",
    "        text = ''.join([c for c in text if not unicodedata.combining(c)])\n",
    "\n",
    "        # Remover números\n",
    "        text = re.sub(r'\\d+', '', text)\n",
    "\n",
    "        # Remover caracteres especiais e manter apenas letras, números e espaços\n",
    "        text = re.sub(r'[^a-zA-Z0-9\\s]', '', text)\n",
    "\n",
    "\n",
    "        # Remover espaços extras\n",
    "        text = re.sub(r'\\s+', ' ', text)\n",
    "\n",
    "\n",
    "        tokens = word_tokenize(text)\n",
    "\n",
    "\n",
    "        stop_words = set(stopwords.words('english'))\n",
    "        tokens = [token for token in tokens if token not in stop_words]\n",
    "\n",
    "        lemmatizer = WordNetLemmatizer()\n",
    "        tokens_sl = [lemmatizer.lemmatize(token) for token in tokens]\n",
    "\n",
    "        return \" \".join(tokens_sl)\n",
    "    except Exception as e:\n",
    "        print(f\"Erro no pre-processamento: {e}\") #log de erros\n",
    "        return \"\"  # Retorna string vazia em caso de erro\n"
   ]
  },
  {
   "cell_type": "markdown",
   "metadata": {},
   "source": [
    "Por se tratar de um dataframe com muitos dados, irei aplicar uma vetorização parcial para adiantar algumas etapas de pré-processamentos que não foram inclusas na função, como:\n",
    "- Remoção de símbolos HTML\n",
    "- Remoção de tags e URLs\n",
    "- Conversão para letras minúsculas\n",
    "\n",
    "Isso irá aliviar um pouco a carga para a etapa principal de pré-processamento."
   ]
  },
  {
   "cell_type": "code",
   "execution_count": 122,
   "metadata": {},
   "outputs": [
    {
     "data": {
      "text/html": [
       "<div>\n",
       "<style scoped>\n",
       "    .dataframe tbody tr th:only-of-type {\n",
       "        vertical-align: middle;\n",
       "    }\n",
       "\n",
       "    .dataframe tbody tr th {\n",
       "        vertical-align: top;\n",
       "    }\n",
       "\n",
       "    .dataframe thead th {\n",
       "        text-align: right;\n",
       "    }\n",
       "</style>\n",
       "<table border=\"1\" class=\"dataframe\">\n",
       "  <thead>\n",
       "    <tr style=\"text-align: right;\">\n",
       "      <th></th>\n",
       "      <th>ratings</th>\n",
       "      <th>sentiments</th>\n",
       "      <th>reviews</th>\n",
       "    </tr>\n",
       "  </thead>\n",
       "  <tbody>\n",
       "    <tr>\n",
       "      <th>0</th>\n",
       "      <td>1</td>\n",
       "      <td>Negative</td>\n",
       "      <td>ok, this place is terrible! came here bc we’ve...</td>\n",
       "    </tr>\n",
       "    <tr>\n",
       "      <th>1</th>\n",
       "      <td>1</td>\n",
       "      <td>Negative</td>\n",
       "      <td>i always enjoyed above the average-to-outstand...</td>\n",
       "    </tr>\n",
       "    <tr>\n",
       "      <th>2</th>\n",
       "      <td>1</td>\n",
       "      <td>Negative</td>\n",
       "      <td>second visit there and i am very disapointed t...</td>\n",
       "    </tr>\n",
       "    <tr>\n",
       "      <th>3</th>\n",
       "      <td>1</td>\n",
       "      <td>Negative</td>\n",
       "      <td>do not eat at this tourist trap.  worst food e...</td>\n",
       "    </tr>\n",
       "    <tr>\n",
       "      <th>4</th>\n",
       "      <td>1</td>\n",
       "      <td>Negative</td>\n",
       "      <td>we went here on our first night in bcn, sadly ...</td>\n",
       "    </tr>\n",
       "    <tr>\n",
       "      <th>5</th>\n",
       "      <td>1</td>\n",
       "      <td>Negative</td>\n",
       "      <td>i would not conclude that we had a racist expe...</td>\n",
       "    </tr>\n",
       "    <tr>\n",
       "      <th>6</th>\n",
       "      <td>1</td>\n",
       "      <td>Negative</td>\n",
       "      <td>we arrive around 20h30 and the restaurant was ...</td>\n",
       "    </tr>\n",
       "    <tr>\n",
       "      <th>7</th>\n",
       "      <td>1</td>\n",
       "      <td>Negative</td>\n",
       "      <td>after reading all the raving reviews and seein...</td>\n",
       "    </tr>\n",
       "    <tr>\n",
       "      <th>8</th>\n",
       "      <td>1</td>\n",
       "      <td>Negative</td>\n",
       "      <td>in my bcn food week experience from kebab to b...</td>\n",
       "    </tr>\n",
       "    <tr>\n",
       "      <th>9</th>\n",
       "      <td>1</td>\n",
       "      <td>Negative</td>\n",
       "      <td>i am spanish and i can ensure that the food se...</td>\n",
       "    </tr>\n",
       "  </tbody>\n",
       "</table>\n",
       "</div>"
      ],
      "text/plain": [
       "   ratings sentiments                                            reviews\n",
       "0        1   Negative  ok, this place is terrible! came here bc we’ve...\n",
       "1        1   Negative  i always enjoyed above the average-to-outstand...\n",
       "2        1   Negative  second visit there and i am very disapointed t...\n",
       "3        1   Negative  do not eat at this tourist trap.  worst food e...\n",
       "4        1   Negative  we went here on our first night in bcn, sadly ...\n",
       "5        1   Negative  i would not conclude that we had a racist expe...\n",
       "6        1   Negative  we arrive around 20h30 and the restaurant was ...\n",
       "7        1   Negative  after reading all the raving reviews and seein...\n",
       "8        1   Negative  in my bcn food week experience from kebab to b...\n",
       "9        1   Negative  i am spanish and i can ensure that the food se..."
      ]
     },
     "execution_count": 122,
     "metadata": {},
     "output_type": "execute_result"
    }
   ],
   "source": [
    "# Exemplo de uso com uma Series do Pandas (vetorização parcial):\n",
    "df_pln['reviews'] = df_pln['reviews'].str.replace(r'<.*?>', '', regex=True)  # Remove HTML\n",
    "df_pln['reviews'] = df_pln['reviews'].str.replace(r'http\\S+', '', regex=True) # Remove URLs\n",
    "df_pln['reviews'] = df_pln['reviews'].str.lower() # Converte para minúsculas\n",
    "df_pln.head(10)"
   ]
  },
  {
   "cell_type": "code",
   "execution_count": 124,
   "metadata": {},
   "outputs": [],
   "source": [
    "df_pln['reviews'] = df_pln['reviews'].apply(text_preprocessing) # Aplica a função para o resto"
   ]
  },
  {
   "cell_type": "markdown",
   "metadata": {},
   "source": [
    "Tempo para finalizar: ≅ 23 minutos"
   ]
  },
  {
   "cell_type": "code",
   "execution_count": 132,
   "metadata": {},
   "outputs": [
    {
     "data": {
      "text/html": [
       "<div>\n",
       "<style scoped>\n",
       "    .dataframe tbody tr th:only-of-type {\n",
       "        vertical-align: middle;\n",
       "    }\n",
       "\n",
       "    .dataframe tbody tr th {\n",
       "        vertical-align: top;\n",
       "    }\n",
       "\n",
       "    .dataframe thead th {\n",
       "        text-align: right;\n",
       "    }\n",
       "</style>\n",
       "<table border=\"1\" class=\"dataframe\">\n",
       "  <thead>\n",
       "    <tr style=\"text-align: right;\">\n",
       "      <th></th>\n",
       "      <th>ratings</th>\n",
       "      <th>sentiments</th>\n",
       "      <th>reviews</th>\n",
       "    </tr>\n",
       "  </thead>\n",
       "  <tbody>\n",
       "    <tr>\n",
       "      <th>1740449</th>\n",
       "      <td>5</td>\n",
       "      <td>Positive</td>\n",
       "      <td>great spot irish craic go try atmosphere staff...</td>\n",
       "    </tr>\n",
       "    <tr>\n",
       "      <th>1740450</th>\n",
       "      <td>5</td>\n",
       "      <td>Positive</td>\n",
       "      <td>place great quick inexpensive breakfast people...</td>\n",
       "    </tr>\n",
       "    <tr>\n",
       "      <th>1740451</th>\n",
       "      <td>5</td>\n",
       "      <td>Positive</td>\n",
       "      <td>delicious pizza amazing food great experience ...</td>\n",
       "    </tr>\n",
       "    <tr>\n",
       "      <th>1740452</th>\n",
       "      <td>5</td>\n",
       "      <td>Positive</td>\n",
       "      <td>round pizza cart electric zoo man sauce cheese...</td>\n",
       "    </tr>\n",
       "    <tr>\n",
       "      <th>1740453</th>\n",
       "      <td>5</td>\n",
       "      <td>Positive</td>\n",
       "      <td>latino international restaurant washington hei...</td>\n",
       "    </tr>\n",
       "  </tbody>\n",
       "</table>\n",
       "</div>"
      ],
      "text/plain": [
       "         ratings sentiments                                            reviews\n",
       "1740449        5   Positive  great spot irish craic go try atmosphere staff...\n",
       "1740450        5   Positive  place great quick inexpensive breakfast people...\n",
       "1740451        5   Positive  delicious pizza amazing food great experience ...\n",
       "1740452        5   Positive  round pizza cart electric zoo man sauce cheese...\n",
       "1740453        5   Positive  latino international restaurant washington hei..."
      ]
     },
     "execution_count": 132,
     "metadata": {},
     "output_type": "execute_result"
    }
   ],
   "source": [
    "df_pln.tail()"
   ]
  },
  {
   "cell_type": "markdown",
   "metadata": {},
   "source": [
    "O progresso até aqui foi satisfatório, pois concluímos várias etapas importantes para o projeto como:\n",
    "- Limpeza dos dados\n",
    "- Manipulação e consolidação de um novo Dataset\n",
    "- Conclusão de pré-processamento\n",
    "\n",
    "Por ser uma etapa relativamente longa, irei exportar em um novo csv e finalizar este notebook, iniciando em um novo nb para as próximas etapas."
   ]
  },
  {
   "cell_type": "code",
   "execution_count": 138,
   "metadata": {
    "colab": {
     "base_uri": "https://localhost:8080/",
     "height": 351
    },
    "id": "RW_wYrzHg_FH",
    "outputId": "9ad42635-5874-4aa6-d6c1-cbc2e224d19f"
   },
   "outputs": [],
   "source": [
    "df_pln.to_csv('restaurante_preprocessado.csv', index=False)"
   ]
  }
 ],
 "metadata": {
  "colab": {
   "provenance": []
  },
  "kernelspec": {
   "display_name": "Python 3 (ipykernel)",
   "language": "python",
   "name": "python3"
  },
  "language_info": {
   "codemirror_mode": {
    "name": "ipython",
    "version": 3
   },
   "file_extension": ".py",
   "mimetype": "text/x-python",
   "name": "python",
   "nbconvert_exporter": "python",
   "pygments_lexer": "ipython3",
   "version": "3.12.3"
  }
 },
 "nbformat": 4,
 "nbformat_minor": 4
}
