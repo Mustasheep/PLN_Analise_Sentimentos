{
  "nbformat": 4,
  "nbformat_minor": 0,
  "metadata": {
    "colab": {
      "provenance": [],
      "authorship_tag": "ABX9TyMyjteWtLH3LuChQeaso8z6",
      "include_colab_link": true
    },
    "kernelspec": {
      "name": "python3",
      "display_name": "Python 3"
    },
    "language_info": {
      "name": "python"
    }
  },
  "cells": [
    {
      "cell_type": "markdown",
      "metadata": {
        "id": "view-in-github",
        "colab_type": "text"
      },
      "source": [
        "<a href=\"https://colab.research.google.com/github/Mustasheep/PLN_Analise_Sentimentos/blob/main/01_Dataset.ipynb\" target=\"_parent\"><img src=\"https://colab.research.google.com/assets/colab-badge.svg\" alt=\"Open In Colab\"/></a>"
      ]
    },
    {
      "cell_type": "markdown",
      "source": [
        "# Introdução"
      ],
      "metadata": {
        "id": "2Ql_0wHmAyJF"
      }
    },
    {
      "cell_type": "markdown",
      "source": [
        "Este notebook é a primeira etapa do meu projeto de Processamento de Linguagem Natural, e terá a função de preparar os dados para serem utilizados em um projeto de processamento de linguagem natural, presente no mesmo repositório.\n",
        "\n",
        "Será utilizado um conjunto de datasets disponíveis no Kaggle. Por serem cinco extensos arquivos csv, irei baixá-los e concatená-los em um único arquivo, para uma melhor eficácia em meu novo projeto."
      ],
      "metadata": {
        "id": "O4pvE3OSBRrx"
      }
    },
    {
      "cell_type": "markdown",
      "source": [
        "## Importando bibliotecas"
      ],
      "metadata": {
        "id": "M95z8d_vAMjp"
      }
    },
    {
      "cell_type": "code",
      "source": [
        "# Ocultando mensagens do sistema\n",
        "import warnings\n",
        "warnings.filterwarnings('ignore')\n",
        "\n",
        "# Importando...\n",
        "import os\n",
        "import pandas as pd\n",
        "import kagglehub"
      ],
      "metadata": {
        "id": "rFYmwpSxAGUK"
      },
      "execution_count": 1,
      "outputs": []
    },
    {
      "cell_type": "code",
      "source": [
        "# Baixando versão atual do dataset\n",
        "path = kagglehub.dataset_download(\"inigolopezrioboo/a-tripadvisor-dataset-for-nlp-tasks\")"
      ],
      "metadata": {
        "id": "xmqLWAB7APxK",
        "colab": {
          "base_uri": "https://localhost:8080/"
        },
        "outputId": "825a714d-bb91-4069-d282-38b1f5968a90"
      },
      "execution_count": 2,
      "outputs": [
        {
          "output_type": "stream",
          "name": "stdout",
          "text": [
            "Warning: Looks like you're using an outdated `kagglehub` version (installed: 0.3.6), please consider upgrading to the latest version (0.3.7).\n",
            "Downloading from https://www.kaggle.com/api/v1/datasets/download/inigolopezrioboo/a-tripadvisor-dataset-for-nlp-tasks?dataset_version_number=1...\n"
          ]
        },
        {
          "output_type": "stream",
          "name": "stderr",
          "text": [
            "100%|██████████| 591M/591M [00:26<00:00, 23.3MB/s]"
          ]
        },
        {
          "output_type": "stream",
          "name": "stdout",
          "text": [
            "Extracting files...\n"
          ]
        },
        {
          "output_type": "stream",
          "name": "stderr",
          "text": [
            "\n"
          ]
        }
      ]
    },
    {
      "cell_type": "code",
      "source": [
        "# Construindo o caminho do dataset...\n",
        "files = [\n",
        "    \"Barcelona_reviews.csv\",\n",
        "    \"London_reviews.csv\",\n",
        "    \"Madrid_reviews.csv\",\n",
        "    \"New_Delhi_reviews.csv\",\n",
        "    \"New_York_reviews.csv\",\n",
        "]\n",
        "\n",
        "for file in files:\n",
        "    file_path = os.path.join(path, file)\n",
        "\n",
        "    df = pd.read_csv(file_path)\n",
        "    df.to_csv(file, index=False)"
      ],
      "metadata": {
        "id": "389UKlHXAeCW"
      },
      "execution_count": 3,
      "outputs": []
    },
    {
      "cell_type": "code",
      "source": [
        "# Preparando os datasets\n",
        "path = '.'\n",
        "\n",
        "csv_files = [\n",
        "    '/content/Barcelona_reviews.csv',\n",
        "    '/content/London_reviews.csv',\n",
        "    '/content/Madrid_reviews.csv',\n",
        "    '/content/New_Delhi_reviews.csv',\n",
        "    '/content/New_York_reviews.csv'\n",
        "]\n",
        "\n",
        "dfs = []\n",
        "\n",
        "for file_name in csv_files:\n",
        "    file_path = os.path.join(path, file_name)\n",
        "    df = pd.read_csv(file_path)\n",
        "    dfs.append(df)\n",
        "\n",
        "# Juntando para um único Dataframe\n",
        "df = pd.concat(dfs, ignore_index=True)"
      ],
      "metadata": {
        "id": "0b9slF9aAjhS"
      },
      "execution_count": 4,
      "outputs": []
    },
    {
      "cell_type": "code",
      "source": [
        "print(f\"Quantidades de linhas: {df.shape[0]}\")\n",
        "print(f\"Quantidades de colunas: {df.shape[1]}\")"
      ],
      "metadata": {
        "colab": {
          "base_uri": "https://localhost:8080/"
        },
        "id": "pBtr2z4YCGAq",
        "outputId": "d69db91e-eb6f-4b84-f164-49d4640cce0d"
      },
      "execution_count": 5,
      "outputs": [
        {
          "output_type": "stream",
          "name": "stdout",
          "text": [
            "Quantidades de linhas: 2299006\n",
            "Quantidades de colunas: 13\n"
          ]
        }
      ]
    },
    {
      "cell_type": "code",
      "source": [
        "# Criando o csv\n",
        "df.to_csv('restaurantes.csv', index=False)"
      ],
      "metadata": {
        "id": "WxyZT2lJBBa4"
      },
      "execution_count": 6,
      "outputs": []
    }
  ]
}